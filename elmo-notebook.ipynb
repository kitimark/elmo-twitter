{
 "nbformat": 4,
 "nbformat_minor": 2,
 "metadata": {
  "language_info": {
   "name": "python",
   "codemirror_mode": {
    "name": "ipython",
    "version": 3
   },
   "version": "3.7.3"
  },
  "orig_nbformat": 2,
  "file_extension": ".py",
  "mimetype": "text/x-python",
  "name": "python",
  "npconvert_exporter": "python",
  "pygments_lexer": "ipython3",
  "version": 3
 },
 "cells": [
  {
   "cell_type": "code",
   "execution_count": 1,
   "metadata": {},
   "outputs": [],
   "source": [
    "import pandas as pd\n",
    "import numpy as np\n",
    "import spacy\n",
    "from tqdm import tqdm\n",
    "import re\n",
    "import time\n",
    "import pickle\n",
    "\n",
    "pd.set_option('display.max_colwidth', 200)"
   ]
  },
  {
   "cell_type": "code",
   "execution_count": 2,
   "metadata": {},
   "outputs": [
    {
     "data": {
      "text/plain": "((7920, 3), (1953, 2))"
     },
     "execution_count": 2,
     "metadata": {},
     "output_type": "execute_result"
    }
   ],
   "source": [
    "train = pd.read_csv('dataset/train_2kmZucJ.csv')\n",
    "test = pd.read_csv('dataset/test_oJQbWVk.csv')\n",
    "\n",
    "train.shape, test.shape"
   ]
  },
  {
   "cell_type": "code",
   "execution_count": 3,
   "metadata": {},
   "outputs": [
    {
     "data": {
      "text/plain": "0    0.744192\n1    0.255808\nName: label, dtype: float64"
     },
     "execution_count": 3,
     "metadata": {},
     "output_type": "execute_result"
    }
   ],
   "source": [
    "train['label'].value_counts(normalize= True)"
   ]
  },
  {
   "cell_type": "code",
   "execution_count": 4,
   "metadata": {},
   "outputs": [
    {
     "data": {
      "text/html": "<div>\n<style scoped>\n    .dataframe tbody tr th:only-of-type {\n        vertical-align: middle;\n    }\n\n    .dataframe tbody tr th {\n        vertical-align: top;\n    }\n\n    .dataframe thead th {\n        text-align: right;\n    }\n</style>\n<table border=\"1\" class=\"dataframe\">\n  <thead>\n    <tr style=\"text-align: right;\">\n      <th></th>\n      <th>id</th>\n      <th>label</th>\n      <th>tweet</th>\n    </tr>\n  </thead>\n  <tbody>\n    <tr>\n      <th>0</th>\n      <td>1</td>\n      <td>0</td>\n      <td>#fingerprint #Pregnancy Test https://goo.gl/h1MfQV #android #apps #beautiful #cute #health #igers #iphoneonly #iphonesia #iphone</td>\n    </tr>\n    <tr>\n      <th>1</th>\n      <td>2</td>\n      <td>0</td>\n      <td>Finally a transparant silicon case ^^ Thanks to my uncle :) #yay #Sony #Xperia #S #sonyexperias… http://instagram.com/p/YGEt5JC6JM/</td>\n    </tr>\n    <tr>\n      <th>2</th>\n      <td>3</td>\n      <td>0</td>\n      <td>We love this! Would you go? #talk #makememories #unplug #relax #iphone #smartphone #wifi #connect... http://fb.me/6N3LsUpCu</td>\n    </tr>\n    <tr>\n      <th>3</th>\n      <td>4</td>\n      <td>0</td>\n      <td>I'm wired I know I'm George I was made that way ;) #iphone #cute #daventry #home http://instagr.am/p/Li_5_ujS4k/</td>\n    </tr>\n    <tr>\n      <th>4</th>\n      <td>5</td>\n      <td>1</td>\n      <td>What amazing service! Apple won't even talk to me about a question I have unless I pay them $19.95 for their stupid support!</td>\n    </tr>\n  </tbody>\n</table>\n</div>",
      "text/plain": "   id  label  \\\n0   1      0   \n1   2      0   \n2   3      0   \n3   4      0   \n4   5      1   \n\n                                                                                                                                 tweet  \n0     #fingerprint #Pregnancy Test https://goo.gl/h1MfQV #android #apps #beautiful #cute #health #igers #iphoneonly #iphonesia #iphone  \n1  Finally a transparant silicon case ^^ Thanks to my uncle :) #yay #Sony #Xperia #S #sonyexperias… http://instagram.com/p/YGEt5JC6JM/  \n2          We love this! Would you go? #talk #makememories #unplug #relax #iphone #smartphone #wifi #connect... http://fb.me/6N3LsUpCu  \n3                     I'm wired I know I'm George I was made that way ;) #iphone #cute #daventry #home http://instagr.am/p/Li_5_ujS4k/  \n4         What amazing service! Apple won't even talk to me about a question I have unless I pay them $19.95 for their stupid support!  "
     },
     "execution_count": 4,
     "metadata": {},
     "output_type": "execute_result"
    }
   ],
   "source": [
    "train.head()"
   ]
  },
  {
   "cell_type": "code",
   "execution_count": 5,
   "metadata": {},
   "outputs": [],
   "source": [
    "train['clean_tweet'] = train['tweet'].apply(lambda x: re.sub(r'http\\S+', '', x))\n",
    "test['clean_tweet'] = test['tweet'].apply(lambda x: re.sub(r'http\\S+', '', x))"
   ]
  },
  {
   "cell_type": "code",
   "execution_count": 6,
   "metadata": {},
   "outputs": [
    {
     "data": {
      "text/html": "<div>\n<style scoped>\n    .dataframe tbody tr th:only-of-type {\n        vertical-align: middle;\n    }\n\n    .dataframe tbody tr th {\n        vertical-align: top;\n    }\n\n    .dataframe thead th {\n        text-align: right;\n    }\n</style>\n<table border=\"1\" class=\"dataframe\">\n  <thead>\n    <tr style=\"text-align: right;\">\n      <th></th>\n      <th>id</th>\n      <th>label</th>\n      <th>tweet</th>\n      <th>clean_tweet</th>\n    </tr>\n  </thead>\n  <tbody>\n    <tr>\n      <th>0</th>\n      <td>1</td>\n      <td>0</td>\n      <td>#fingerprint #Pregnancy Test https://goo.gl/h1MfQV #android #apps #beautiful #cute #health #igers #iphoneonly #iphonesia #iphone</td>\n      <td>#fingerprint #Pregnancy Test  #android #apps #beautiful #cute #health #igers #iphoneonly #iphonesia #iphone</td>\n    </tr>\n    <tr>\n      <th>1</th>\n      <td>2</td>\n      <td>0</td>\n      <td>Finally a transparant silicon case ^^ Thanks to my uncle :) #yay #Sony #Xperia #S #sonyexperias… http://instagram.com/p/YGEt5JC6JM/</td>\n      <td>Finally a transparant silicon case ^^ Thanks to my uncle :) #yay #Sony #Xperia #S #sonyexperias…</td>\n    </tr>\n    <tr>\n      <th>2</th>\n      <td>3</td>\n      <td>0</td>\n      <td>We love this! Would you go? #talk #makememories #unplug #relax #iphone #smartphone #wifi #connect... http://fb.me/6N3LsUpCu</td>\n      <td>We love this! Would you go? #talk #makememories #unplug #relax #iphone #smartphone #wifi #connect...</td>\n    </tr>\n    <tr>\n      <th>3</th>\n      <td>4</td>\n      <td>0</td>\n      <td>I'm wired I know I'm George I was made that way ;) #iphone #cute #daventry #home http://instagr.am/p/Li_5_ujS4k/</td>\n      <td>I'm wired I know I'm George I was made that way ;) #iphone #cute #daventry #home</td>\n    </tr>\n    <tr>\n      <th>4</th>\n      <td>5</td>\n      <td>1</td>\n      <td>What amazing service! Apple won't even talk to me about a question I have unless I pay them $19.95 for their stupid support!</td>\n      <td>What amazing service! Apple won't even talk to me about a question I have unless I pay them $19.95 for their stupid support!</td>\n    </tr>\n  </tbody>\n</table>\n</div>",
      "text/plain": "   id  label  \\\n0   1      0   \n1   2      0   \n2   3      0   \n3   4      0   \n4   5      1   \n\n                                                                                                                                 tweet  \\\n0     #fingerprint #Pregnancy Test https://goo.gl/h1MfQV #android #apps #beautiful #cute #health #igers #iphoneonly #iphonesia #iphone   \n1  Finally a transparant silicon case ^^ Thanks to my uncle :) #yay #Sony #Xperia #S #sonyexperias… http://instagram.com/p/YGEt5JC6JM/   \n2          We love this! Would you go? #talk #makememories #unplug #relax #iphone #smartphone #wifi #connect... http://fb.me/6N3LsUpCu   \n3                     I'm wired I know I'm George I was made that way ;) #iphone #cute #daventry #home http://instagr.am/p/Li_5_ujS4k/   \n4         What amazing service! Apple won't even talk to me about a question I have unless I pay them $19.95 for their stupid support!   \n\n                                                                                                                    clean_tweet  \n0                   #fingerprint #Pregnancy Test  #android #apps #beautiful #cute #health #igers #iphoneonly #iphonesia #iphone  \n1                             Finally a transparant silicon case ^^ Thanks to my uncle :) #yay #Sony #Xperia #S #sonyexperias…   \n2                         We love this! Would you go? #talk #makememories #unplug #relax #iphone #smartphone #wifi #connect...   \n3                                             I'm wired I know I'm George I was made that way ;) #iphone #cute #daventry #home   \n4  What amazing service! Apple won't even talk to me about a question I have unless I pay them $19.95 for their stupid support!  "
     },
     "execution_count": 6,
     "metadata": {},
     "output_type": "execute_result"
    }
   ],
   "source": [
    "train.head()"
   ]
  },
  {
   "cell_type": "code",
   "execution_count": 7,
   "metadata": {},
   "outputs": [],
   "source": [
    "# remove punctuation marks\n",
    "punctuation = '!\"#$%&()*+-/:;<=>?@[\\\\]^_`{|}~'\n",
    "\n",
    "train['clean_tweet'] = train['clean_tweet'].apply(lambda x: ''.join(ch for ch in x if ch not in set(punctuation)))\n",
    "test['clean_tweet'] = test['clean_tweet'].apply(lambda x: ''.join(ch for ch in x if ch not in set(punctuation)))\n",
    "\n",
    "# convert text to lowercase\n",
    "train['clean_tweet'] = train['clean_tweet'].str.lower()\n",
    "test['clean_tweet'] = test['clean_tweet'].str.lower()\n",
    "\n",
    "# remove numbers\n",
    "train['clean_tweet'] = train['clean_tweet'].str.replace(\"[0-9]\", \" \")\n",
    "test['clean_tweet'] = test['clean_tweet'].str.replace(\"[0-9]\", \" \")\n",
    "\n",
    "# remove whitespaces\n",
    "train['clean_tweet'] = train['clean_tweet'].apply(lambda x:' '.join(x.split()))\n",
    "test['clean_tweet'] = test['clean_tweet'].apply(lambda x: ' '.join(x.split()))"
   ]
  },
  {
   "cell_type": "code",
   "execution_count": 8,
   "metadata": {},
   "outputs": [
    {
     "data": {
      "text/html": "<div>\n<style scoped>\n    .dataframe tbody tr th:only-of-type {\n        vertical-align: middle;\n    }\n\n    .dataframe tbody tr th {\n        vertical-align: top;\n    }\n\n    .dataframe thead th {\n        text-align: right;\n    }\n</style>\n<table border=\"1\" class=\"dataframe\">\n  <thead>\n    <tr style=\"text-align: right;\">\n      <th></th>\n      <th>id</th>\n      <th>label</th>\n      <th>tweet</th>\n      <th>clean_tweet</th>\n    </tr>\n  </thead>\n  <tbody>\n    <tr>\n      <th>0</th>\n      <td>1</td>\n      <td>0</td>\n      <td>#fingerprint #Pregnancy Test https://goo.gl/h1MfQV #android #apps #beautiful #cute #health #igers #iphoneonly #iphonesia #iphone</td>\n      <td>fingerprint pregnancy test android apps beautiful cute health igers iphoneonly iphonesia iphone</td>\n    </tr>\n    <tr>\n      <th>1</th>\n      <td>2</td>\n      <td>0</td>\n      <td>Finally a transparant silicon case ^^ Thanks to my uncle :) #yay #Sony #Xperia #S #sonyexperias… http://instagram.com/p/YGEt5JC6JM/</td>\n      <td>finally a transparant silicon case thanks to my uncle yay sony xperia s sonyexperias…</td>\n    </tr>\n    <tr>\n      <th>2</th>\n      <td>3</td>\n      <td>0</td>\n      <td>We love this! Would you go? #talk #makememories #unplug #relax #iphone #smartphone #wifi #connect... http://fb.me/6N3LsUpCu</td>\n      <td>we love this would you go talk makememories unplug relax iphone smartphone wifi connect...</td>\n    </tr>\n    <tr>\n      <th>3</th>\n      <td>4</td>\n      <td>0</td>\n      <td>I'm wired I know I'm George I was made that way ;) #iphone #cute #daventry #home http://instagr.am/p/Li_5_ujS4k/</td>\n      <td>i'm wired i know i'm george i was made that way iphone cute daventry home</td>\n    </tr>\n    <tr>\n      <th>4</th>\n      <td>5</td>\n      <td>1</td>\n      <td>What amazing service! Apple won't even talk to me about a question I have unless I pay them $19.95 for their stupid support!</td>\n      <td>what amazing service apple won't even talk to me about a question i have unless i pay them . for their stupid support</td>\n    </tr>\n  </tbody>\n</table>\n</div>",
      "text/plain": "   id  label  \\\n0   1      0   \n1   2      0   \n2   3      0   \n3   4      0   \n4   5      1   \n\n                                                                                                                                 tweet  \\\n0     #fingerprint #Pregnancy Test https://goo.gl/h1MfQV #android #apps #beautiful #cute #health #igers #iphoneonly #iphonesia #iphone   \n1  Finally a transparant silicon case ^^ Thanks to my uncle :) #yay #Sony #Xperia #S #sonyexperias… http://instagram.com/p/YGEt5JC6JM/   \n2          We love this! Would you go? #talk #makememories #unplug #relax #iphone #smartphone #wifi #connect... http://fb.me/6N3LsUpCu   \n3                     I'm wired I know I'm George I was made that way ;) #iphone #cute #daventry #home http://instagr.am/p/Li_5_ujS4k/   \n4         What amazing service! Apple won't even talk to me about a question I have unless I pay them $19.95 for their stupid support!   \n\n                                                                                                             clean_tweet  \n0                        fingerprint pregnancy test android apps beautiful cute health igers iphoneonly iphonesia iphone  \n1                                  finally a transparant silicon case thanks to my uncle yay sony xperia s sonyexperias…  \n2                             we love this would you go talk makememories unplug relax iphone smartphone wifi connect...  \n3                                              i'm wired i know i'm george i was made that way iphone cute daventry home  \n4  what amazing service apple won't even talk to me about a question i have unless i pay them . for their stupid support  "
     },
     "execution_count": 8,
     "metadata": {},
     "output_type": "execute_result"
    }
   ],
   "source": [
    "train.head()"
   ]
  },
  {
   "cell_type": "code",
   "execution_count": 9,
   "metadata": {},
   "outputs": [],
   "source": [
    "# load spaCy's language model\n",
    "nlp = spacy.load('en', disable=['parser', 'ner'])\n",
    "\n",
    "# function to lemmatize text\n",
    "def lemmatization(texts):\n",
    "    output = []\n",
    "    for i in texts:\n",
    "        s = [token.lemma_ for token in nlp(i)]\n",
    "        output.append(' '.join(s))\n",
    "    return output"
   ]
  },
  {
   "cell_type": "code",
   "execution_count": 10,
   "metadata": {},
   "outputs": [],
   "source": [
    "train['clean_tweet'] = lemmatization(train['clean_tweet'])\n",
    "test['clean_tweet'] = lemmatization(test['clean_tweet'])"
   ]
  },
  {
   "cell_type": "code",
   "execution_count": 11,
   "metadata": {},
   "outputs": [
    {
     "data": {
      "text/html": "<div>\n<style scoped>\n    .dataframe tbody tr th:only-of-type {\n        vertical-align: middle;\n    }\n\n    .dataframe tbody tr th {\n        vertical-align: top;\n    }\n\n    .dataframe thead th {\n        text-align: right;\n    }\n</style>\n<table border=\"1\" class=\"dataframe\">\n  <thead>\n    <tr style=\"text-align: right;\">\n      <th></th>\n      <th>id</th>\n      <th>label</th>\n      <th>tweet</th>\n      <th>clean_tweet</th>\n    </tr>\n  </thead>\n  <tbody>\n    <tr>\n      <th>883</th>\n      <td>884</td>\n      <td>0</td>\n      <td>Got that 10 sub goal! Unbelievable thank you everyone for the support http://www.twitch.tv/jdkong905 #twitch #twitchtv #twitchstreamer #twitchaffiliate #prime #subscribe #follow #hype #ps4 #gaming...</td>\n      <td>get that sub goal unbelievable thank -PRON- everyone for the support twitch twitchtv twitchstreamer twitchaffiliate prime subscribe follow hype ps gaming blessed game sony thankyou smallstep</td>\n    </tr>\n    <tr>\n      <th>6396</th>\n      <td>6397</td>\n      <td>1</td>\n      <td>So I've updated my iPod. But I can't see anything new or amazing that justifies the arduous amount of time I took doing so.</td>\n      <td>so -PRON- have update -PRON- ipod . but i can not see anything new or amazing that justify the arduous amount of time i take do so .</td>\n    </tr>\n    <tr>\n      <th>689</th>\n      <td>690</td>\n      <td>0</td>\n      <td>New phone :-) me #me #thakyousomuchdad #mypic #minenow #myphone #samsung #samsunggalaxy… http://instagram.com/p/lhqPw6lK-M/</td>\n      <td>new phone -PRON- -PRON- thakyousomuchdad mypic minenow myphone samsung samsunggalaxy …</td>\n    </tr>\n    <tr>\n      <th>1610</th>\n      <td>1611</td>\n      <td>0</td>\n      <td>Shine wherever you go #light #shine #glow #newyear #newchapter #girlpower #iphonex… https://www.instagram.com/p/BdqPAtZlKY9/</td>\n      <td>shine wherever -PRON- go light shine glow newyear newchapter girlpower iphonex …</td>\n    </tr>\n    <tr>\n      <th>7913</th>\n      <td>7914</td>\n      <td>1</td>\n      <td>Ok so my galaxy crashed after one day now I have to wait til Monday for my skyrocket but using iPhone for now...</td>\n      <td>ok so -PRON- galaxy crash after one day now i have to wait til monday for -PRON- skyrocket but use iphone for now ...</td>\n    </tr>\n    <tr>\n      <th>6190</th>\n      <td>6191</td>\n      <td>0</td>\n      <td>The Grab (Next in #naruto) . #kids #cute #nex5n #sony #saudi #ksa @ DQ Grill &amp; Chill http://instagr.am/p/QE5UbnDZ5Y/</td>\n      <td>the grab next in naruto . kid cute nex n sony saudi ksa dq grill chill</td>\n    </tr>\n    <tr>\n      <th>5665</th>\n      <td>5666</td>\n      <td>0</td>\n      <td>Enjoy and thanks... #apple team #thanks (with Aditya, utit, and Debbie at Lor In New Kuta Hotel) [pic] — https://path.com/p/4v7khK</td>\n      <td>enjoy and thank ... apple team thank with aditya , utit , and debbie at lor in new kuta hotel pic —</td>\n    </tr>\n    <tr>\n      <th>1683</th>\n      <td>1684</td>\n      <td>1</td>\n      <td>How Apple can patent pinch to zoom when seing DiamondTouch made in 2001 by Mitsubishi http://bit.ly/PjbJCG #apple</td>\n      <td>how apple can patent pinch to zoom when see diamondtouch make in by mitsubishi apple</td>\n    </tr>\n    <tr>\n      <th>810</th>\n      <td>811</td>\n      <td>0</td>\n      <td>Track of the Day: ‘Ultraviolet (Light My Way)’ #news #photography #fashion #health #fail #tech #ipad #iphone … pic.twitter.com/ff4OC2tG4u</td>\n      <td>track of the day ' ultraviolet light -PRON- way ' news photography fashion health fail tech ipad iphone … pic.twitter.comff oc tg u</td>\n    </tr>\n    <tr>\n      <th>2899</th>\n      <td>2900</td>\n      <td>0</td>\n      <td>Happy weekend everyone #fridaypic a new project! #weekend #ice #fun #fridge #a7r #maxgennel #sony... http://fb.me/1akjuzPQH</td>\n      <td>happy weekend everyone fridaypic a new project weekend ice fun fridge a r maxgennel sony ...</td>\n    </tr>\n  </tbody>\n</table>\n</div>",
      "text/plain": "        id  label  \\\n883    884      0   \n6396  6397      1   \n689    690      0   \n1610  1611      0   \n7913  7914      1   \n6190  6191      0   \n5665  5666      0   \n1683  1684      1   \n810    811      0   \n2899  2900      0   \n\n                                                                                                                                                                                                        tweet  \\\n883   Got that 10 sub goal! Unbelievable thank you everyone for the support http://www.twitch.tv/jdkong905 #twitch #twitchtv #twitchstreamer #twitchaffiliate #prime #subscribe #follow #hype #ps4 #gaming...   \n6396                                                                              So I've updated my iPod. But I can't see anything new or amazing that justifies the arduous amount of time I took doing so.   \n689                                                                               New phone :-) me #me #thakyousomuchdad #mypic #minenow #myphone #samsung #samsunggalaxy… http://instagram.com/p/lhqPw6lK-M/   \n1610                                                                             Shine wherever you go #light #shine #glow #newyear #newchapter #girlpower #iphonex… https://www.instagram.com/p/BdqPAtZlKY9/   \n7913                                                                                         Ok so my galaxy crashed after one day now I have to wait til Monday for my skyrocket but using iPhone for now...   \n6190                                                                                     The Grab (Next in #naruto) . #kids #cute #nex5n #sony #saudi #ksa @ DQ Grill & Chill http://instagr.am/p/QE5UbnDZ5Y/   \n5665                                                                       Enjoy and thanks... #apple team #thanks (with Aditya, utit, and Debbie at Lor In New Kuta Hotel) [pic] — https://path.com/p/4v7khK   \n1683                                                                                        How Apple can patent pinch to zoom when seing DiamondTouch made in 2001 by Mitsubishi http://bit.ly/PjbJCG #apple   \n810                                                                 Track of the Day: ‘Ultraviolet (Light My Way)’ #news #photography #fashion #health #fail #tech #ipad #iphone … pic.twitter.com/ff4OC2tG4u   \n2899                                                                              Happy weekend everyone #fridaypic a new project! #weekend #ice #fun #fridge #a7r #maxgennel #sony... http://fb.me/1akjuzPQH   \n\n                                                                                                                                                                                         clean_tweet  \n883   get that sub goal unbelievable thank -PRON- everyone for the support twitch twitchtv twitchstreamer twitchaffiliate prime subscribe follow hype ps gaming blessed game sony thankyou smallstep  \n6396                                                            so -PRON- have update -PRON- ipod . but i can not see anything new or amazing that justify the arduous amount of time i take do so .  \n689                                                                                                           new phone -PRON- -PRON- thakyousomuchdad mypic minenow myphone samsung samsunggalaxy …  \n1610                                                                                                                shine wherever -PRON- go light shine glow newyear newchapter girlpower iphonex …  \n7913                                                                           ok so -PRON- galaxy crash after one day now i have to wait til monday for -PRON- skyrocket but use iphone for now ...  \n6190                                                                                                                          the grab next in naruto . kid cute nex n sony saudi ksa dq grill chill  \n5665                                                                                             enjoy and thank ... apple team thank with aditya , utit , and debbie at lor in new kuta hotel pic —  \n1683                                                                                                            how apple can patent pinch to zoom when see diamondtouch make in by mitsubishi apple  \n810                                                              track of the day ' ultraviolet light -PRON- way ' news photography fashion health fail tech ipad iphone … pic.twitter.comff oc tg u  \n2899                                                                                                    happy weekend everyone fridaypic a new project weekend ice fun fridge a r maxgennel sony ...  "
     },
     "execution_count": 11,
     "metadata": {},
     "output_type": "execute_result"
    }
   ],
   "source": [
    "train.sample(10)"
   ]
  },
  {
   "cell_type": "code",
   "execution_count": 12,
   "metadata": {},
   "outputs": [],
   "source": [
    "import tensorflow_hub as hub\n",
    "import tensorflow as tf\n",
    "\n",
    "elmo = hub.Module(\"https://tfhub.dev/google/elmo/3\", trainable=True)"
   ]
  }
 ]
}